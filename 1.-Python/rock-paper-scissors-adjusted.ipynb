{
 "cells": [
  {
   "cell_type": "markdown",
   "metadata": {},
   "source": [
    "<img src=\"https://bit.ly/2VnXWr2\" width=\"100\" align=\"left\">"
   ]
  },
  {
   "cell_type": "markdown",
   "metadata": {},
   "source": [
    "# Rock, Paper & Scissors\n",
    "\n",
    "Let's play the famous game against our computer. You can check the rules [here](https://en.wikipedia.org/wiki/Rock%E2%80%93paper%E2%80%93scissors). \n",
    "\n",
    "## Task\n",
    "Create a program that imitates the playability of the well known game of rock, paper, scissors. Follow the guidelines provided.\n",
    "\n",
    "## Tools\n",
    "1. Loop: **for/while**\n",
    "2. Functions: **input(), print()...**\n",
    "3. Conditional statements: **if, elif, else**\n",
    "4. Definition of functions. Modular programming\n",
    "5. Import modules\n",
    "\n",
    "**To solve this challenge, the use of functions is recommended.**\n",
    "\n",
    "#### 1. Import the choice function of the random module."
   ]
  },
  {
   "cell_type": "code",
   "execution_count": 2,
   "metadata": {},
   "outputs": [],
   "source": [
    "import random \n",
    "from random import choice"
   ]
  },
  {
   "cell_type": "markdown",
   "metadata": {},
   "source": [
    "#### 2. Create a list that includes the 3 possible gesture options of the game: 'rock', 'paper' or 'scissors'. Store the list in a variable called `gestures`."
   ]
  },
  {
   "cell_type": "code",
   "execution_count": 3,
   "metadata": {},
   "outputs": [],
   "source": [
    "gestures = ['rock','paper','scissors']"
   ]
  },
  {
   "cell_type": "markdown",
   "metadata": {},
   "source": [
    "#### 3. Create a variable called `n_rounds` to store the maximum number of rounds to play in a game. \n",
    "Remember that the number of rounds must be odd: 1, 3, 5, ..."
   ]
  },
  {
   "cell_type": "code",
   "execution_count": 4,
   "metadata": {},
   "outputs": [],
   "source": [
    "n_rounds = 3"
   ]
  },
  {
   "cell_type": "markdown",
   "metadata": {},
   "source": [
    "#### 4. Create a variable called `rounds_to_win` to store the number of rounds that a player must win to win the game.\n",
    "**Hint**: the value stored in `rounds_to_win` depends on the value of `n_rounds`. "
   ]
  },
  {
   "cell_type": "code",
   "execution_count": 5,
   "metadata": {},
   "outputs": [],
   "source": [
    "rounds_to_win = 2"
   ]
  },
  {
   "cell_type": "markdown",
   "metadata": {},
   "source": [
    "#### 5. Create two variables to store the number of rounds that the computer and the player have won. Call these variables `cpu_score` and `player_score`."
   ]
  },
  {
   "cell_type": "code",
   "execution_count": 6,
   "metadata": {},
   "outputs": [],
   "source": [
    "cpu_score = 0\n",
    "player_score = 0"
   ]
  },
  {
   "cell_type": "markdown",
   "metadata": {},
   "source": [
    "#### 6. Define a function that randomly returns one of the 3 gesture options.\n",
    "You will use this function to simulate the gesture choice of the computer. "
   ]
  },
  {
   "cell_type": "code",
   "execution_count": 7,
   "metadata": {},
   "outputs": [
    {
     "name": "stdout",
     "output_type": "stream",
     "text": [
      "Computer plays:  rock\n"
     ]
    }
   ],
   "source": [
    "import random\n",
    "\n",
    "def comp_choice ():\n",
    "    print(\"Computer plays: \", random.choice(gestures))\n",
    "\n",
    "comp_choice()"
   ]
  },
  {
   "cell_type": "markdown",
   "metadata": {},
   "source": [
    "#### 7. Define a function that asks the player which is the gesture he or she wants to show: 'rock', 'paper' or 'scissors'.\n",
    "The player should only be allowed to choose one of the 3 gesture options. If the player's choice is not rock, paper or scissors, keep asking until it is."
   ]
  },
  {
   "cell_type": "code",
   "execution_count": 8,
   "metadata": {},
   "outputs": [
    {
     "name": "stdout",
     "output_type": "stream",
     "text": [
      "Which gesture do you want to show? rock\n"
     ]
    }
   ],
   "source": [
    "def player_choice ():\n",
    "\n",
    "    while True:\n",
    "        player_input = input(\"Which gesture do you want to show? \")\n",
    "        \n",
    "        if player_input == 'rock' or player_input == 'paper' or player_input == 'scissors':\n",
    "            break\n",
    "        \n",
    "        else:\n",
    "            print(\"Enter either 'rock' or 'paper' or 'scissors' to be able to play\")\n",
    "            player_choice()\n",
    "            \n",
    "        break\n",
    "            \n",
    "player_choice()"
   ]
  },
  {
   "cell_type": "markdown",
   "metadata": {},
   "source": [
    "#### 8. Define a function that checks who won a round. \n",
    "The function should return 0 if there is a tie, 1 if the computer wins and 2 if the player wins."
   ]
  },
  {
   "cell_type": "code",
   "execution_count": 9,
   "metadata": {},
   "outputs": [
    {
     "name": "stdout",
     "output_type": "stream",
     "text": [
      "Which gesture do you want to show? test\n",
      "Enter either 'rock' or 'paper' or 'scissors' to be able to play\n",
      "Which gesture do you want to show? rock\n",
      "Computer plays:  scissors\n"
     ]
    }
   ],
   "source": [
    "def winner_round_test ():\n",
    "    \n",
    "    player_choice()\n",
    "       \n",
    "    comp_choice()\n",
    "        \n",
    "        \n",
    "    if (player_choice == 'rock' and comp_choice == 'scissors') or (player_choice == 'scissors' and comp_choice == 'paper') or (player_choice == 'paper' and comp_choice == 'rock'):\n",
    "        print(\"2\")\n",
    "    elif (player_choice == 'rock' and comp_choice == 'paper') or (player_choice == 'scissors' and comp_choice == 'rock') or (player_choice == 'paper' and comp_choice == 'scissors'):\n",
    "        print(\"1\")\n",
    "    elif (player_choice == 'rock' and comp_choice == 'rock') or (player_choice == 'scissors' and comp_choice == 'scissors') or (player_choice == 'paper' and comp_choice == 'paper'):\n",
    "        print(\"0\")\n",
    "        \n",
    "winner_round_test()"
   ]
  },
  {
   "cell_type": "code",
   "execution_count": 10,
   "metadata": {},
   "outputs": [
    {
     "name": "stdout",
     "output_type": "stream",
     "text": [
      "Which gesture do you want to show? rock\n",
      "Computer plays:  rock\n"
     ]
    }
   ],
   "source": [
    "def winner_round_basic ():\n",
    "\n",
    "    while True:\n",
    "        \n",
    "        player_choice()\n",
    "       \n",
    "        comp_choice()\n",
    "        \n",
    "        \n",
    "        if player_choice == 'rock':\n",
    "            if comp_choice == 'scissors':\n",
    "                print(\"2\")\n",
    "            elif comp_choice == 'paper':\n",
    "                print(\"1\")\n",
    "            elif comp_choice == 'rock':\n",
    "                print(\"0\")\n",
    "\n",
    "\n",
    "        elif player_choice == 'scissors': \n",
    "            if comp_choice == 'paper':\n",
    "                print(\"2\")\n",
    "            elif comp_choice == 'rock':\n",
    "                print(\"1\")\n",
    "            elif comp_choice == 'scissors':\n",
    "                print(\"0\")\n",
    "\n",
    "\n",
    "        elif player_choice == 'paper': \n",
    "            if comp_choice == 'rock':\n",
    "                print(\"2\")\n",
    "            elif comp_choice == 'scissors':\n",
    "                print(\"1\")\n",
    "            elif comp_choice == 'paper':\n",
    "                print(\"0\")\n",
    "            \n",
    "        else:\n",
    "            break\n",
    "        \n",
    "winner_round_basic()"
   ]
  },
  {
   "cell_type": "markdown",
   "metadata": {},
   "source": [
    "#### 9. Define a function that prints the choice of the computer, the choice of the player and a message that announces who won the current round. \n",
    "You should also use this function to update the variables that count the number of rounds that the computer and the player have won. The score of the winner increases by one point. If there is a tie, the score does not increase."
   ]
  },
  {
   "cell_type": "code",
   "execution_count": null,
   "metadata": {},
   "outputs": [],
   "source": [
    "def winner_round():\n",
    "    \n",
    "    while True:\n",
    "        \n",
    "        player_choice()\n",
    "       \n",
    "        comp_choice()\n",
    "        \n",
    "        if player_choice == 'rock':\n",
    "            if comp_choice == 'scissors':\n",
    "                print(\"The player won this round.\")\n",
    "            elif comp_choice == 'paper':\n",
    "                print(\"The computer won this round.\")\n",
    "            elif comp_choice == 'rock':\n",
    "                print(\"It's a tie.\")\n",
    "            break\n",
    "            \n",
    "        elif player_choice == 'scissors': \n",
    "            if comp_choice == 'paper':\n",
    "                print(\"The player won this round.\")\n",
    "            elif comp_choice == 'rock':\n",
    "                print(\"The computer won this round.\")\n",
    "            elif comp_choice == 'scissors':\n",
    "                print(\"It's a tie.\")\n",
    "            break\n",
    "            \n",
    "        elif player_choice == 'paper': \n",
    "            if comp_choice == 'rock':\n",
    "                print(\"The player won this round.\")\n",
    "            elif comp_choice == 'scissors':\n",
    "                print(\"The computer won this round.\")\n",
    "            elif comp_choice == 'paper':\n",
    "                print(\"It's a tie.\")\n",
    "            break\n",
    "        \n",
    "        else:\n",
    "            break\n",
    "            \n",
    "winner_round()"
   ]
  },
  {
   "cell_type": "markdown",
   "metadata": {},
   "source": [
    "#### 10. Now it's time to code the execution of the game using the functions and variables you defined above. \n",
    "\n",
    "First, create a loop structure that repeats while no player reaches the minimum score necessary to win and the number of rounds is less than the maximum number of rounds to play in a game.  \n",
    "\n",
    "Inside the loop, use the functions and variables above to create the execution of a round: ask for the player's choice, generate the random choice of the computer, show the round results, update the scores, etc. "
   ]
  },
  {
   "cell_type": "code",
   "execution_count": 12,
   "metadata": {},
   "outputs": [
    {
     "name": "stdout",
     "output_type": "stream",
     "text": [
      "Rounds that are necessary to win the game  2.0\n"
     ]
    },
    {
     "ename": "KeyboardInterrupt",
     "evalue": "Interrupted by user",
     "output_type": "error",
     "traceback": [
      "\u001b[1;31m---------------------------------------------------------------------------\u001b[0m",
      "\u001b[1;31mKeyboardInterrupt\u001b[0m                         Traceback (most recent call last)",
      "\u001b[1;32m<ipython-input-12-0d52c861ec3e>\u001b[0m in \u001b[0;36m<module>\u001b[1;34m\u001b[0m\n\u001b[0;32m     85\u001b[0m         \u001b[0mprint\u001b[0m \u001b[1;33m(\u001b[0m\u001b[1;34m\"Congrats, you won the game.\"\u001b[0m\u001b[1;33m)\u001b[0m\u001b[1;33m\u001b[0m\u001b[1;33m\u001b[0m\u001b[0m\n\u001b[0;32m     86\u001b[0m \u001b[1;33m\u001b[0m\u001b[0m\n\u001b[1;32m---> 87\u001b[1;33m \u001b[0mgame\u001b[0m\u001b[1;33m(\u001b[0m\u001b[1;33m)\u001b[0m\u001b[1;33m\u001b[0m\u001b[1;33m\u001b[0m\u001b[0m\n\u001b[0m\u001b[0;32m     88\u001b[0m \u001b[1;33m\u001b[0m\u001b[0m\n\u001b[0;32m     89\u001b[0m \u001b[0mwinner_game\u001b[0m\u001b[1;33m(\u001b[0m\u001b[1;33m)\u001b[0m\u001b[1;33m\u001b[0m\u001b[1;33m\u001b[0m\u001b[0m\n",
      "\u001b[1;32m<ipython-input-12-0d52c861ec3e>\u001b[0m in \u001b[0;36mgame\u001b[1;34m()\u001b[0m\n\u001b[0;32m     40\u001b[0m     \u001b[1;32mwhile\u001b[0m \u001b[1;32mTrue\u001b[0m\u001b[1;33m:\u001b[0m\u001b[1;33m\u001b[0m\u001b[1;33m\u001b[0m\u001b[0m\n\u001b[0;32m     41\u001b[0m \u001b[1;33m\u001b[0m\u001b[0m\n\u001b[1;32m---> 42\u001b[1;33m         \u001b[0mplayer_choice\u001b[0m \u001b[1;33m(\u001b[0m\u001b[1;33m)\u001b[0m\u001b[1;33m\u001b[0m\u001b[1;33m\u001b[0m\u001b[0m\n\u001b[0m\u001b[0;32m     43\u001b[0m \u001b[1;33m\u001b[0m\u001b[0m\n\u001b[0;32m     44\u001b[0m         \u001b[0mcomp_choice\u001b[0m \u001b[1;33m(\u001b[0m\u001b[1;33m)\u001b[0m\u001b[1;33m\u001b[0m\u001b[1;33m\u001b[0m\u001b[0m\n",
      "\u001b[1;32m<ipython-input-12-0d52c861ec3e>\u001b[0m in \u001b[0;36mplayer_choice\u001b[1;34m()\u001b[0m\n\u001b[0;32m     18\u001b[0m \u001b[1;33m\u001b[0m\u001b[0m\n\u001b[0;32m     19\u001b[0m     \u001b[1;32mwhile\u001b[0m \u001b[1;32mTrue\u001b[0m\u001b[1;33m:\u001b[0m\u001b[1;33m\u001b[0m\u001b[1;33m\u001b[0m\u001b[0m\n\u001b[1;32m---> 20\u001b[1;33m         \u001b[0mplayer_input\u001b[0m \u001b[1;33m=\u001b[0m \u001b[0minput\u001b[0m\u001b[1;33m(\u001b[0m\u001b[1;34m\"Which gesture do you want to show? \"\u001b[0m\u001b[1;33m)\u001b[0m\u001b[1;33m\u001b[0m\u001b[1;33m\u001b[0m\u001b[0m\n\u001b[0m\u001b[0;32m     21\u001b[0m         \u001b[1;32mif\u001b[0m \u001b[0mplayer_input\u001b[0m \u001b[1;33m==\u001b[0m \u001b[1;34m'rock'\u001b[0m \u001b[1;32mor\u001b[0m \u001b[0mplayer_input\u001b[0m \u001b[1;33m==\u001b[0m \u001b[1;34m'paper'\u001b[0m \u001b[1;32mor\u001b[0m \u001b[0mplayer_input\u001b[0m \u001b[1;33m==\u001b[0m \u001b[1;34m'scissors'\u001b[0m\u001b[1;33m:\u001b[0m\u001b[1;33m\u001b[0m\u001b[1;33m\u001b[0m\u001b[0m\n\u001b[0;32m     22\u001b[0m             \u001b[1;32mbreak\u001b[0m\u001b[1;33m\u001b[0m\u001b[1;33m\u001b[0m\u001b[0m\n",
      "\u001b[1;32mc:\\users\\katha\\appdata\\local\\programs\\python\\python39\\lib\\site-packages\\ipykernel\\kernelbase.py\u001b[0m in \u001b[0;36mraw_input\u001b[1;34m(self, prompt)\u001b[0m\n\u001b[0;32m    846\u001b[0m                 \u001b[1;34m\"raw_input was called, but this frontend does not support input requests.\"\u001b[0m\u001b[1;33m\u001b[0m\u001b[1;33m\u001b[0m\u001b[0m\n\u001b[0;32m    847\u001b[0m             )\n\u001b[1;32m--> 848\u001b[1;33m         return self._input_request(str(prompt),\n\u001b[0m\u001b[0;32m    849\u001b[0m             \u001b[0mself\u001b[0m\u001b[1;33m.\u001b[0m\u001b[0m_parent_ident\u001b[0m\u001b[1;33m,\u001b[0m\u001b[1;33m\u001b[0m\u001b[1;33m\u001b[0m\u001b[0m\n\u001b[0;32m    850\u001b[0m             \u001b[0mself\u001b[0m\u001b[1;33m.\u001b[0m\u001b[0m_parent_header\u001b[0m\u001b[1;33m,\u001b[0m\u001b[1;33m\u001b[0m\u001b[1;33m\u001b[0m\u001b[0m\n",
      "\u001b[1;32mc:\\users\\katha\\appdata\\local\\programs\\python\\python39\\lib\\site-packages\\ipykernel\\kernelbase.py\u001b[0m in \u001b[0;36m_input_request\u001b[1;34m(self, prompt, ident, parent, password)\u001b[0m\n\u001b[0;32m    890\u001b[0m             \u001b[1;32mexcept\u001b[0m \u001b[0mKeyboardInterrupt\u001b[0m\u001b[1;33m:\u001b[0m\u001b[1;33m\u001b[0m\u001b[1;33m\u001b[0m\u001b[0m\n\u001b[0;32m    891\u001b[0m                 \u001b[1;31m# re-raise KeyboardInterrupt, to truncate traceback\u001b[0m\u001b[1;33m\u001b[0m\u001b[1;33m\u001b[0m\u001b[1;33m\u001b[0m\u001b[0m\n\u001b[1;32m--> 892\u001b[1;33m                 \u001b[1;32mraise\u001b[0m \u001b[0mKeyboardInterrupt\u001b[0m\u001b[1;33m(\u001b[0m\u001b[1;34m\"Interrupted by user\"\u001b[0m\u001b[1;33m)\u001b[0m \u001b[1;32mfrom\u001b[0m \u001b[1;32mNone\u001b[0m\u001b[1;33m\u001b[0m\u001b[1;33m\u001b[0m\u001b[0m\n\u001b[0m\u001b[0;32m    893\u001b[0m             \u001b[1;32mexcept\u001b[0m \u001b[0mException\u001b[0m \u001b[1;32mas\u001b[0m \u001b[0me\u001b[0m\u001b[1;33m:\u001b[0m\u001b[1;33m\u001b[0m\u001b[1;33m\u001b[0m\u001b[0m\n\u001b[0;32m    894\u001b[0m                 \u001b[0mself\u001b[0m\u001b[1;33m.\u001b[0m\u001b[0mlog\u001b[0m\u001b[1;33m.\u001b[0m\u001b[0mwarning\u001b[0m\u001b[1;33m(\u001b[0m\u001b[1;34m\"Invalid Message:\"\u001b[0m\u001b[1;33m,\u001b[0m \u001b[0mexc_info\u001b[0m\u001b[1;33m=\u001b[0m\u001b[1;32mTrue\u001b[0m\u001b[1;33m)\u001b[0m\u001b[1;33m\u001b[0m\u001b[1;33m\u001b[0m\u001b[0m\n",
      "\u001b[1;31mKeyboardInterrupt\u001b[0m: Interrupted by user"
     ]
    }
   ],
   "source": [
    "#Scores\n",
    "\n",
    "player_score = 0\n",
    "cpu_score = 0\n",
    "\n",
    "#Rounds\n",
    "\n",
    "n = 3\n",
    "\n",
    "n_rounds = n\n",
    "n_rounds_to_win = n/2 + 0.5\n",
    "\n",
    "print(\"Rounds that are necessary to win the game \", n_rounds_to_win)\n",
    "\n",
    "#Player's choice\n",
    "\n",
    "def player_choice ():\n",
    "\n",
    "    while True:\n",
    "        player_input = input(\"Which gesture do you want to show? \")\n",
    "        if player_input == 'rock' or player_input == 'paper' or player_input == 'scissors':\n",
    "            break\n",
    "        else:\n",
    "            print(\"Enter either 'rock' or 'paper' or 'scissors' to be able to play\")\n",
    "            player_choice()\n",
    "            \n",
    "        break\n",
    "\n",
    "#Computer's choice\n",
    "\n",
    "import random\n",
    "\n",
    "def comp_choice ():\n",
    "    print(\"Computer plays: \", random.choice(gestures))\n",
    "    \n",
    "#Game\n",
    "\n",
    "def game():\n",
    "\n",
    "    while True:\n",
    "        \n",
    "        player_choice ()\n",
    "        \n",
    "        comp_choice ()\n",
    "        \n",
    "        if player_choice == 'rock':\n",
    "            if comp_choice == 'scissors':\n",
    "                print(\"The player won this round.\")\n",
    "                player_score += 1\n",
    "            elif comp_choice == 'paper':\n",
    "                print(\"The computer won this round.\")\n",
    "                cpu_score += 1\n",
    "            elif comp_choice == 'rock':\n",
    "                print(\"It's a tie.\")\n",
    "            break\n",
    "\n",
    "        elif player_choice == 'scissors': \n",
    "            if comp_choice == 'paper':\n",
    "                print(\"The player won this round.\")\n",
    "                player_score += 1\n",
    "            elif comp_choice == 'rock':\n",
    "                print(\"The computer won this round.\")\n",
    "                cpu_score += 1\n",
    "            elif comp_choice == 'scissors':\n",
    "                print(\"It's a tie.\")\n",
    "            break\n",
    "\n",
    "        elif player_choice == 'paper': \n",
    "            if comp_choice == 'rock':\n",
    "                print(\"The player won this round.\")\n",
    "                player_score += 1\n",
    "            elif comp_choice == 'scissors':\n",
    "                print(\"The computer won this round.\")\n",
    "                cpu_score +=1\n",
    "            elif comp_choice == 'paper':\n",
    "                print(\"It's a tie.\")\n",
    "            break\n",
    "\n",
    "def winner_game():\n",
    "    \n",
    "    if cpu_score > n_rounds_to_win:\n",
    "        print (\"The computer won the game.\")\n",
    "\n",
    "    elif player_score > n_rounds_to_win:\n",
    "        print (\"Congrats, you won the game.\")\n",
    "        \n",
    "game()\n",
    "\n",
    "winner_game()"
   ]
  },
  {
   "cell_type": "markdown",
   "metadata": {},
   "source": [
    "#### 11. Print the winner of the game based on who won more rounds.\n",
    "Remember that the game might be tied. "
   ]
  },
  {
   "cell_type": "code",
   "execution_count": null,
   "metadata": {},
   "outputs": [],
   "source": [
    "#Scores\n",
    "player_score = 0\n",
    "cpu_score = 0\n",
    "\n",
    "#Rounds\n",
    "n = 3\n",
    "\n",
    "n_rounds = n\n",
    "n_rounds_to_win = n/2 + 0.5\n",
    "\n",
    "from random import choice\n",
    "\n",
    "#create a list of play options\n",
    "t = [\"Rock\", \"Paper\", \"Scissors\"]\n",
    "\n",
    "\n",
    "def winner_game_total():\n",
    "\n",
    "    while True:\n",
    "        computer = choice(t)\n",
    "\n",
    "        player = input(\"Rock, Paper, Scissors?\")\n",
    "\n",
    "        if player == computer:\n",
    "            print(\"Tie!\")\n",
    "            break\n",
    "        elif player == \"Rock\":\n",
    "            if computer == \"Paper\":\n",
    "                print(\"You lose!\", computer,\"covers\", player)\n",
    "                cpu_score += 1\n",
    "            else:\n",
    "                print(\"You win!\", player, \"smashes\", computer)\n",
    "                player_score +=1\n",
    "            break\n",
    "\n",
    "        elif player == \"Paper\":\n",
    "            if computer == \"Scissors\":\n",
    "                print(\"You lose!\", computer, \"cut\", player)\n",
    "                cpu_score += 1\n",
    "            else:\n",
    "                print(\"You win!\", player, \"covers\", computer)\n",
    "                player_score +=1\n",
    "            break\n",
    "        \n",
    "        elif player == \"Scissors\":\n",
    "            if computer == \"Rock\":\n",
    "                print(\"You lose...\", computer, \"smashes\", player)\n",
    "                cpu_score += 1\n",
    "            else:\n",
    "                print(\"You win!\", player, \"cut\", computer)\n",
    "                player_score +=1\n",
    "            break\n",
    "\n",
    "        else:\n",
    "            print(\"That's not a valid play. Check your spelling!\")\n",
    "            break\n",
    "\n",
    "    while True:\n",
    "        if cpu_score >= n_rounds_to_win:\n",
    "            print (\"The computer won the game.\")\n",
    "            break\n",
    "\n",
    "        elif player_score >= n_rounds_to_win:\n",
    "            print (\"Congrats, you won the game.\")\n",
    "            break\n",
    "    \n",
    "winner_game_total()\n"
   ]
  },
  {
   "cell_type": "markdown",
   "metadata": {},
   "source": [
    "# Bonus: Rock, Paper, Scissors, Lizard & Spock\n",
    "![](images/rpsls.jpg)\n",
    "\n",
    "In this challenge, you need to improve the previous game by adding two new options. To know more about the rules of the improved version of rock, paper, scissors, check this [link](http://www.samkass.com/theories/RPSSL.html). \n",
    "\n",
    "In addition, you will also need to improve how the game interacts with the player: the number of rounds to play, which must be an odd number, will be requested to the user until a valid number is entered. Define a new function to make that request.\n",
    "\n",
    "**Hint**: Try to reuse the code that you already coded in the previous challenge. If your code is efficient, this bonus will only consist of simple modifications to the original game."
   ]
  },
  {
   "cell_type": "code",
   "execution_count": null,
   "metadata": {},
   "outputs": [],
   "source": []
  }
 ],
 "metadata": {
  "kernelspec": {
   "display_name": "Python 3",
   "language": "python",
   "name": "python3"
  },
  "language_info": {
   "codemirror_mode": {
    "name": "ipython",
    "version": 3
   },
   "file_extension": ".py",
   "mimetype": "text/x-python",
   "name": "python",
   "nbconvert_exporter": "python",
   "pygments_lexer": "ipython3",
   "version": "3.9.4"
  }
 },
 "nbformat": 4,
 "nbformat_minor": 2
}
